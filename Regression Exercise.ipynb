{
 "cells": [
  {
   "cell_type": "code",
   "execution_count": 2,
   "metadata": {},
   "outputs": [],
   "source": [
    "import numpy as np\n",
    "import pandas as pd\n",
    "from matplotlib import pyplot as plt\n",
    "from sklearn.preprocessing import PolynomialFeatures\n",
    "from sklearn.linear_model import LinearRegression\n",
    "from sklearn.metrics import mean_squared_error, r2_score\n",
    "%matplotlib inline"
   ]
  },
  {
   "cell_type": "code",
   "execution_count": 3,
   "metadata": {},
   "outputs": [
    {
     "data": {
      "text/html": [
       "<div>\n",
       "<style scoped>\n",
       "    .dataframe tbody tr th:only-of-type {\n",
       "        vertical-align: middle;\n",
       "    }\n",
       "\n",
       "    .dataframe tbody tr th {\n",
       "        vertical-align: top;\n",
       "    }\n",
       "\n",
       "    .dataframe thead th {\n",
       "        text-align: right;\n",
       "    }\n",
       "</style>\n",
       "<table border=\"1\" class=\"dataframe\">\n",
       "  <thead>\n",
       "    <tr style=\"text-align: right;\">\n",
       "      <th></th>\n",
       "      <th>Population</th>\n",
       "      <th>Profit</th>\n",
       "    </tr>\n",
       "  </thead>\n",
       "  <tbody>\n",
       "    <tr>\n",
       "      <th>0</th>\n",
       "      <td>6.1101</td>\n",
       "      <td>17.5920</td>\n",
       "    </tr>\n",
       "    <tr>\n",
       "      <th>1</th>\n",
       "      <td>5.5277</td>\n",
       "      <td>9.1302</td>\n",
       "    </tr>\n",
       "    <tr>\n",
       "      <th>2</th>\n",
       "      <td>8.5186</td>\n",
       "      <td>13.6620</td>\n",
       "    </tr>\n",
       "    <tr>\n",
       "      <th>3</th>\n",
       "      <td>7.0032</td>\n",
       "      <td>11.8540</td>\n",
       "    </tr>\n",
       "    <tr>\n",
       "      <th>4</th>\n",
       "      <td>5.8598</td>\n",
       "      <td>6.8233</td>\n",
       "    </tr>\n",
       "  </tbody>\n",
       "</table>\n",
       "</div>"
      ],
      "text/plain": [
       "   Population   Profit\n",
       "0      6.1101  17.5920\n",
       "1      5.5277   9.1302\n",
       "2      8.5186  13.6620\n",
       "3      7.0032  11.8540\n",
       "4      5.8598   6.8233"
      ]
     },
     "execution_count": 3,
     "metadata": {},
     "output_type": "execute_result"
    }
   ],
   "source": [
    "# Reading Text data into DataFrame\n",
    "\n",
    "df_pop_profit= pd.read_csv('Data Set.txt', sep = \",\", names = ['Population','Profit'])\n",
    "df_pop_profit.head()"
   ]
  },
  {
   "cell_type": "code",
   "execution_count": 4,
   "metadata": {
    "scrolled": true
   },
   "outputs": [
    {
     "name": "stdout",
     "output_type": "stream",
     "text": [
      "<class 'pandas.core.frame.DataFrame'>\n",
      "RangeIndex: 97 entries, 0 to 96\n",
      "Data columns (total 2 columns):\n",
      " #   Column      Non-Null Count  Dtype  \n",
      "---  ------      --------------  -----  \n",
      " 0   Population  97 non-null     float64\n",
      " 1   Profit      97 non-null     float64\n",
      "dtypes: float64(2)\n",
      "memory usage: 1.6 KB\n",
      "None\n",
      "       Population     Profit\n",
      "count   97.000000  97.000000\n",
      "mean     8.159800   5.839135\n",
      "std      3.869884   5.510262\n",
      "min      5.026900  -2.680700\n",
      "25%      5.707700   1.986900\n",
      "50%      6.589400   4.562300\n",
      "75%      8.578100   7.046700\n",
      "max     22.203000  24.147000\n"
     ]
    }
   ],
   "source": [
    "# Analysing the Data\n",
    "\n",
    "print(df_pop_profit.info())\n",
    "print(df_pop_profit.describe())"
   ]
  },
  {
   "cell_type": "code",
   "execution_count": 5,
   "metadata": {},
   "outputs": [],
   "source": [
    "# Defining X and Y labels\n",
    "\n",
    "X = df_pop_profit['Population'].values.reshape(-1,1)\n",
    "y = df_pop_profit['Profit']"
   ]
  },
  {
   "cell_type": "code",
   "execution_count": 6,
   "metadata": {
    "scrolled": true
   },
   "outputs": [
    {
     "data": {
      "image/png": "[encoded data removed]",
      "text/plain": [
       "<Figure size 720x360 with 1 Axes>"
      ]
     },
     "metadata": {
      "needs_background": "light"
     },
     "output_type": "display_data"
    }
   ],
   "source": [
    "# Plotting and Visualizing the Population with respect to Profit\n",
    "\n",
    "plt.figure(figsize=(10,5))\n",
    "plt.scatter(X,y, s = 10)\n",
    "plt.xlabel('Population', fontsize = 16)\n",
    "plt.ylabel('Profit', fontsize = 16)\n",
    "plt.title('Population vs Profit Graph', fontsize = 16)\n",
    "plt.show()"
   ]
  },
  {
   "cell_type": "code",
   "execution_count": 7,
   "metadata": {},
   "outputs": [
    {
     "name": "stdout",
     "output_type": "stream",
     "text": [
      "Coefficient is:  [1.19303364]\n",
      "Intercept is:  -3.89578087831185\n"
     ]
    }
   ],
   "source": [
    "# Training X and Predicting y using y = mx+c \n",
    "\n",
    "model = LinearRegression()\n",
    "model.fit(X, y)\n",
    "y_Pred = model.predict(X)\n",
    "print('Coefficient is: ', model.coef_)\n",
    "print('Intercept is: ', model.intercept_)"
   ]
  },
  {
   "cell_type": "code",
   "execution_count": 8,
   "metadata": {
    "scrolled": true
   },
   "outputs": [
    {
     "data": {
      "image/png": "[encoded data removed]",
      "text/plain": [
       "<Figure size 720x360 with 1 Axes>"
      ]
     },
     "metadata": {
      "needs_background": "light"
     },
     "output_type": "display_data"
    }
   ],
   "source": [
    "plt.figure(figsize=(10,5))\n",
    "plt.scatter(X,y, s = 10)\n",
    "plt.plot(X,y_Pred,color = 'red')\n",
    "plt.xlabel('Population', fontsize = 16)\n",
    "plt.ylabel('Profit', fontsize = 16)\n",
    "plt.title('Plotting Best Fit Line', fontsize = 16)\n",
    "plt.show()"
   ]
  },
  {
   "cell_type": "code",
   "execution_count": 9,
   "metadata": {},
   "outputs": [
    {
     "name": "stdout",
     "output_type": "stream",
     "text": [
      "2.9923139460876023\n",
      "0.7020315537841397\n"
     ]
    }
   ],
   "source": [
    "# Evaluating the Mean Error and R2 Score\n",
    "\n",
    "rmse = np.sqrt(mean_squared_error(y,y_Pred))\n",
    "r2 = r2_score(y,y_Pred)\n",
    "print(rmse)\n",
    "print(r2)"
   ]
  },
  {
   "cell_type": "code",
   "execution_count": 10,
   "metadata": {},
   "outputs": [],
   "source": [
    "# Setting the features to be 2 forming equation y = ax^2+bx+c\n",
    "\n",
    "polynomial_features= PolynomialFeatures(degree=2)\n",
    "X_Poly = polynomial_features.fit_transform(X)"
   ]
  },
  {
   "cell_type": "code",
   "execution_count": 11,
   "metadata": {},
   "outputs": [
    {
     "name": "stdout",
     "output_type": "stream",
     "text": [
      "Coefficient is:  [0.         1.10087207 0.00379118]\n",
      "Intercept is:  -3.452377935740726\n"
     ]
    }
   ],
   "source": [
    "# Training X and Predicting y using y = ax^2+bx+c\n",
    "\n",
    "model_Poly = LinearRegression()\n",
    "model_Poly.fit(X_Poly, y)\n",
    "y_Poly_Pred = model_Poly.predict(X_Poly)\n",
    "print('Coefficient is: ', model_Poly.coef_)\n",
    "print('Intercept is: ', model_Poly.intercept_)"
   ]
  },
  {
   "cell_type": "code",
   "execution_count": 12,
   "metadata": {
    "scrolled": true
   },
   "outputs": [
    {
     "data": {
      "image/png": "[encoded data removed]",
      "text/plain": [
       "<Figure size 720x360 with 1 Axes>"
      ]
     },
     "metadata": {
      "needs_background": "light"
     },
     "output_type": "display_data"
    }
   ],
   "source": [
    "# Plotting the best fit line with equation y = ax^2+bx+c\n",
    "\n",
    "plt.figure(figsize=(10,5))\n",
    "plt.scatter(X,y)\n",
    "plt.plot(X,y_Poly_Pred, color = 'green')\n",
    "plt.xlabel('Population', fontsize = 16)\n",
    "plt.ylabel('Profit', fontsize = 16)\n",
    "plt.title('Plotting Best Fit Line - Quadratic', fontsize = 16)\n",
    "plt.show()"
   ]
  },
  {
   "cell_type": "code",
   "execution_count": 13,
   "metadata": {},
   "outputs": [
    {
     "name": "stdout",
     "output_type": "stream",
     "text": [
      "2.9914643202114224\n",
      "0.702200737744032\n"
     ]
    }
   ],
   "source": [
    "# Evaluating the Mean Error and R2 Score\n",
    "\n",
    "rmse_Poly = np.sqrt(mean_squared_error(y,y_Poly_Pred))\n",
    "r2_Poly = r2_score(y,y_Poly_Pred)\n",
    "print(rmse_Poly)\n",
    "print(r2_Poly)"
   ]
  },
  {
   "cell_type": "markdown",
   "metadata": {},
   "source": [
    "### From above we can see variations in the Best Fit Line, Slope and Intercept. Increasing the Polynomial Feature might help us to get the best fit line with least mean error"
   ]
  },
  {
   "cell_type": "code",
   "execution_count": null,
   "metadata": {},
   "outputs": [],
   "source": []
  }
 ],
 "metadata": {
  "kernelspec": {
   "display_name": "Python 3",
   "language": "python",
   "name": "python3"
  },
  "language_info": {
   "codemirror_mode": {
    "name": "ipython",
    "version": 3
   },
   "file_extension": ".py",
   "mimetype": "text/x-python",
   "name": "python",
   "nbconvert_exporter": "python",
   "pygments_lexer": "ipython3",
   "version": "3.7.1"
  }
 },
 "nbformat": 4,
 "nbformat_minor": 2
}
